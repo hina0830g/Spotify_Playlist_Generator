{
 "cells": [
  {
   "cell_type": "code",
   "execution_count": 1,
   "id": "467e09b6",
   "metadata": {},
   "outputs": [],
   "source": [
    "import spotipy\n",
    "from spotipy.oauth2 import SpotifyOAuth\n",
    "from spotipy.oauth2 import SpotifyClientCredentials\n",
    "import requests\n",
    "import json \n",
    "import numpy as np\n",
    "import matplotlib.pyplot as plt\n",
    "import pandas as pd\n",
    "import scipy\n",
    "import random"
   ]
  },
  {
   "cell_type": "code",
   "execution_count": 2,
   "id": "d8b1d17c",
   "metadata": {},
   "outputs": [],
   "source": [
    "# Define credentials\n",
    "client_ID = 'YOUR_CLIENT_ID' \n",
    "client_SECRET = 'YOUR_CLIENT_SECRET'  \n",
    "redirect_url = 'http://localhost/'\n",
    "auth_url = 'https://accounts.spotify.com/api/token'\n",
    "\n",
    "credentials = SpotifyClientCredentials(client_id=client_ID, client_secret=client_SECRET)\n",
    "\n",
    "data = {\n",
    "    'grant_type': 'client_credentials',\n",
    "    'client_id': client_ID,\n",
    "    'client_secret': client_SECRET,\n",
    "}\n",
    "auth_response = requests.post(auth_url, data=data)\n",
    "access_token = auth_response.json().get('access_token')\n",
    "\n",
    "# Set up the authentication\n",
    "sp = spotipy.Spotify(auth_manager=SpotifyOAuth(scope='playlist-modify-private', client_id=client_ID, client_secret=client_SECRET, redirect_uri=redirect_url))"
   ]
  },
  {
   "cell_type": "markdown",
   "id": "423a43c6",
   "metadata": {},
   "source": [
    "## Get Available Genres"
   ]
  },
  {
   "cell_type": "code",
   "execution_count": 3,
   "id": "b5e7388e",
   "metadata": {},
   "outputs": [
    {
     "name": "stdout",
     "output_type": "stream",
     "text": [
      "available genres: \n",
      " ['acoustic', 'afrobeat', 'alt-rock', 'alternative', 'ambient', 'anime', 'black-metal', 'bluegrass', 'blues', 'bossanova', 'brazil', 'breakbeat', 'british', 'cantopop', 'chicago-house', 'children', 'chill', 'classical', 'club', 'comedy', 'country', 'dance', 'dancehall', 'death-metal', 'deep-house', 'detroit-techno', 'disco', 'disney', 'drum-and-bass', 'dub', 'dubstep', 'edm', 'electro', 'electronic', 'emo', 'folk', 'forro', 'french', 'funk', 'garage', 'german', 'gospel', 'goth', 'grindcore', 'groove', 'grunge', 'guitar', 'happy', 'hard-rock', 'hardcore', 'hardstyle', 'heavy-metal', 'hip-hop', 'holidays', 'honky-tonk', 'house', 'idm', 'indian', 'indie', 'indie-pop', 'industrial', 'iranian', 'j-dance', 'j-idol', 'j-pop', 'j-rock', 'jazz', 'k-pop', 'kids', 'latin', 'latino', 'malay', 'mandopop', 'metal', 'metal-misc', 'metalcore', 'minimal-techno', 'movies', 'mpb', 'new-age', 'new-release', 'opera', 'pagode', 'party', 'philippines-opm', 'piano', 'pop', 'pop-film', 'post-dubstep', 'power-pop', 'progressive-house', 'psych-rock', 'punk', 'punk-rock', 'r-n-b', 'rainy-day', 'reggae', 'reggaeton', 'road-trip', 'rock', 'rock-n-roll', 'rockabilly', 'romance', 'sad', 'salsa', 'samba', 'sertanejo', 'show-tunes', 'singer-songwriter', 'ska', 'sleep', 'songwriter', 'soul', 'soundtracks', 'spanish', 'study', 'summer', 'swedish', 'synth-pop', 'tango', 'techno', 'trance', 'trip-hop', 'turkish', 'work-out', 'world-music']\n"
     ]
    }
   ],
   "source": [
    "# Set the Authorization header with the access token\n",
    "headers = {\n",
    "    \"Authorization\": \"Bearer \" + access_token\n",
    "}\n",
    "\n",
    "# Send the GET request\n",
    "data = requests.get(\"https://api.spotify.com/v1/recommendations/available-genre-seeds\", headers=headers).json()\n",
    "\n",
    "# Extract the list of seed genres. Seed genre of your choice must be chosen from this list\n",
    "available_genres = data['genres']\n",
    "print('available genres: \\n', available_genres)"
   ]
  },
  {
   "cell_type": "code",
   "execution_count": 4,
   "id": "f215bfe7",
   "metadata": {},
   "outputs": [],
   "source": [
    "def get_playlist_tracks(playlist_id_list):\n",
    "    '''\n",
    "    This function takes a list of URLs of spotify playlists and \n",
    "    returns the track IDs of tracks in the playlist (s) as a list. \n",
    "    \n",
    "    URLs to spotify playlists can be obtained as follows: \n",
    "    More options -> Share -> Copy link to playlist\n",
    "    \n",
    "    '''\n",
    "    track_ids = []\n",
    "    for playlist_id in playlist_id_list:\n",
    "        offset = 0\n",
    "        limit = 100\n",
    "        total = limit  # Initialize total to enter the loop\n",
    "\n",
    "        while offset < total:\n",
    "            playlist_tracks = sp.playlist_tracks(playlist_id, offset=offset, limit=limit)\n",
    "            track_ids.extend([track['track']['id'] for track in playlist_tracks['items']])\n",
    "            offset += limit\n",
    "            total = playlist_tracks['total']\n",
    "    return track_ids\n",
    "\n",
    "def name_to_rui(name_list):\n",
    "    '''\n",
    "    This function takes a list of names of the artists and\n",
    "    returns their URIs as a list. \n",
    "    \n",
    "    Make sure that the names you give are identical to the artist names \n",
    "    that appear on Spotiy\n",
    "    '''\n",
    "    artist_uri_list = []\n",
    "    for artist in artist_list:\n",
    "        search_result = sp.search(q='artist:' + artist, type='artist', limit=1)\n",
    "        items = search_result['artists']['items']\n",
    "        if len(items) > 0:\n",
    "            uri = items[0]['uri'][15:]\n",
    "            artist_uri_list.append(uri)\n",
    "    return artist_uri_list"
   ]
  },
  {
   "cell_type": "code",
   "execution_count": 19,
   "id": "c3b596c5",
   "metadata": {},
   "outputs": [],
   "source": [
    "# Define settings and filters\n",
    "\n",
    "# SETTINGS \n",
    "endpoint_url = \"https://api.spotify.com/v1/recommendations?\" \n",
    "token = access_token\n",
    "user_id = client_ID\n",
    "\n",
    "# OUR FILTERS\n",
    "limit = 10 # adjust this value based how many songs you want in your playlist\n",
    "market = \"US\" \n",
    "seed_genres = \"r-n-b\"\n",
    "\n",
    "if seed_genres not in available_genres:\n",
    "    print('=== WARNING! pick a valid genre from the following ===', '\\n',available_genres)\n",
    "\n",
    "# Define a list of seed artists and playlists \n",
    "artist_list = ['Dominic Fike', 'Omar Apollo', 'Daniel Caesar', 'SZA'] # Just an examle!\n",
    "playlist_url = ['url1', 'url2']\n",
    "\n",
    "seed_artists = name_to_rui(artist_list)  # Extract artists' uris\n",
    "seed_tracks = get_playlist_tracks(playlist_url) \n",
    "\n",
    "# Shuffles the tracks amongest given playlists for better selection\n",
    "seed_tracks_shuffled = random.sample(seed_tracks, len(seed_tracks)) "
   ]
  },
  {
   "cell_type": "markdown",
   "id": "24de2649",
   "metadata": {},
   "source": [
    "## Get song recs!\n",
    "### go through the songs & see if you like them. You can also run again to get another selection."
   ]
  },
  {
   "cell_type": "code",
   "execution_count": 22,
   "id": "af9ec627",
   "metadata": {},
   "outputs": [
    {
     "name": "stdout",
     "output_type": "stream",
     "text": [
      "1) \"cindy\" by Jeremy Zucker\n",
      "2) \"Down in History\" by True Being\n",
      "3) \"Young & Alive\" by Bazzi\n",
      "4) \"Young Harleezy\" by Jack Harlow\n",
      "5) \"Me or Sum (feat. Future & Lil Baby)\" by Nardo Wick\n",
      "6) \"Window Seat\" by Erykah Badu\n",
      "7) \"4EVER\" by Clairo\n",
      "8) \"Breakdown\" by Ar'mon & Trey\n",
      "9) \"My Boo\" by Usher\n",
      "10) \"SHADOW\" by OGK John\n",
      "1) \"Daunt\" by Jelani Aryeh\n",
      "2) \"Your Life Your Time\" by Christian Leave\n",
      "3) \"So Into You\" by Tamia\n",
      "4) \"Motocross\" by Huron John\n",
      "5) \"Wanna Be\" by The Internet\n",
      "6) \"Breeze\" by Marius\n",
      "7) \"ARE YOU WITH THAT?\" by Vince Staples\n",
      "8) \"FAMJAM4000\" by Jordan Ward\n",
      "9) \"you always play\" by scyq\n",
      "10) \"Golden\" by Jill Scott\n",
      "1) \"Portland\" by Strawberry Milk Cult\n",
      "2) \"Fight the Vegans\" by WILLIS\n",
      "3) \"Color TV\" by Deal Casino\n",
      "4) \"Hands Down\" by The Greeting Committee\n",
      "5) \"HEADSTART\" by Ritt Momney\n",
      "6) \"Vickie\" by Peach Pit\n",
      "7) \"Song From Hell\" by Peach Tree Rascals\n",
      "8) \"Your Life Your Time\" by Christian Leave\n",
      "9) \"Sadie, KT-22\" by Ashes To Amber\n",
      "10) \"Just a Boy\" by The Backseat Lovers\n",
      "1) \"Beach Boy\" by BENEE\n",
      "2) \"I Will Always Love You\" by Whitney Houston\n",
      "3) \"Cosmos (feat. Ty Dolla $ign)\" by Paul Epworth\n",
      "4) \"Bucciarati\" by Open Mike Eagle\n",
      "5) \"Can't You See\" by Total\n",
      "6) \"Window Seat\" by Erykah Badu\n",
      "7) \"Rewind (from Insecure: Music From The HBO Original Series, Season 4)\" by Ravyn Lenae\n",
      "8) \"LIGHT TURN GREEN\" by MXXWLL\n",
      "9) \"Summer Girl\" by Hush Forte\n",
      "10) \"Exposure\" by DRAM\n",
      "1) \"Only in My Dreams\" by The Marías\n",
      "2) \"NO HALO\" by BROCKHAMPTON\n",
      "3) \"Go with It (feat. VIC MENSA)\" by The Internet\n",
      "4) \"3rd Wheel\" by Nate Traveller\n",
      "5) \"Don't Let Me Down (feat. Khalid)\" by Sabrina Claudio\n",
      "6) \"Unbothered\" by Omar Apollo\n",
      "7) \"I Wasn't Told\" by Berhana\n",
      "8) \"Pleaser\" by Wallows\n",
      "9) \"24 / 7 / 365\" by Surfaces\n",
      "10) \"Shorty (Got Her Eyes on Me)\" by Donell Jones\n",
      "\n",
      "\n",
      "Total 50 tracks extracted!\n",
      "You could also run again to get a new set of selections\n"
     ]
    }
   ],
   "source": [
    "## === PERFORM THE QUERY === ##\n",
    "uris = []\n",
    "ids = []\n",
    "emp_list = []\n",
    "query = f'{endpoint_url}limit={limit}&market={market}&seed_genres={seed_genres}'\n",
    "\n",
    "for artist_id in seed_artists:\n",
    "    query += f'&seed_artists={artist_id}'\n",
    "\n",
    "batch_size = 100  # Define the number of seed tracks per request\n",
    "\n",
    "for i in range(0, len(seed_tracks_shuffled), batch_size):\n",
    "    track_batch = seed_tracks_shuffled[i:i + batch_size]\n",
    "    for track_id in track_batch:\n",
    "        query += f'&seed_tracks={track_id}'\n",
    "\n",
    "    response = requests.get(query, headers={\"Content-Type\": \"application/json\", \"Authorization\": f\"Bearer {token}\"})\n",
    "    json_response = response.json()\n",
    "\n",
    "    for i, j in enumerate(json_response['tracks']):\n",
    "        emp_list.append(j)\n",
    "        ids.append(j['id']) # j \n",
    "        print(f\"{i+1}) \\\"{j['name']}\\\" by {j['artists'][0]['name']}\")\n",
    "\n",
    "    # Reset the query for the next batch\n",
    "    query = f'{endpoint_url}limit={limit}&market={market}&seed_genres={seed_genres}'\n",
    "    for artist_id in seed_artists:\n",
    "        query += f'&seed_artists={artist_id}'\n",
    "\n",
    "print('\\n')\n",
    "print('Total', len(ids) ,'tracks extracted!')\n",
    "print('You could also run again to get a new set of selections')\n"
   ]
  },
  {
   "cell_type": "markdown",
   "id": "775d5954",
   "metadata": {},
   "source": [
    "## Create an empy playlist & add the tracks"
   ]
  },
  {
   "cell_type": "code",
   "execution_count": 24,
   "id": "bcac3d85",
   "metadata": {},
   "outputs": [
    {
     "name": "stdout",
     "output_type": "stream",
     "text": [
      "Playlist created named: Demo\n",
      "All the songs have been added!\n"
     ]
    }
   ],
   "source": [
    "# Set up the authentication\n",
    "sp = spotipy.Spotify(auth_manager=SpotifyOAuth(scope='playlist-modify-private', client_id=client_ID, client_secret=client_SECRET, redirect_uri=redirect_url))\n",
    "\n",
    "# Create an empty playlist\n",
    "playlist_name =\"Demo\" # \"Public Python generated R&B playlist\"\n",
    "playlist_description = \"Seed artists: Omar Apollo, Daniel Casear, Dominic Fike, SZR; seed playlists: Alt r&b, 2022. Seed genre: r-n-b. Python generated R&B playlist!\"\n",
    "user_id = sp.me()['id']  # Get the current user's ID\n",
    "\n",
    "playlist = sp.user_playlist_create(user_id, playlist_name, public=True)\n",
    "sp.playlist_change_details(playlist['id'], description=playlist_description)\n",
    "\n",
    "# Print the ID of the newly created playlist\n",
    "print(\"Playlist created named:\", playlist_name)# with ID:\", playlist['id'])\n",
    "\n",
    "# Add songs to the playlist\n",
    "sp.playlist_add_items(playlist['id'], ids)\n",
    "print('All the songs have been added!')"
   ]
  },
  {
   "cell_type": "code",
   "execution_count": null,
   "id": "d39abe69",
   "metadata": {},
   "outputs": [],
   "source": []
  }
 ],
 "metadata": {
  "kernelspec": {
   "display_name": "Python 3 (ipykernel)",
   "language": "python",
   "name": "python3"
  },
  "language_info": {
   "codemirror_mode": {
    "name": "ipython",
    "version": 3
   },
   "file_extension": ".py",
   "mimetype": "text/x-python",
   "name": "python",
   "nbconvert_exporter": "python",
   "pygments_lexer": "ipython3",
   "version": "3.9.7"
  }
 },
 "nbformat": 4,
 "nbformat_minor": 5
}
